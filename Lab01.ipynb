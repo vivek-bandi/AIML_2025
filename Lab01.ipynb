{
 "cells": [
  {
   "cell_type": "markdown",
   "metadata": {
    "colab_type": "text",
    "id": "view-in-github"
   },
   "source": [
    "<a href=\"https://colab.research.google.com/github/kirankumareranki/AIML-2025/blob/main/Lab01.ipynb\" target=\"_parent\"><img src=\"https://colab.research.google.com/assets/colab-badge.svg\" alt=\"Open In Colab\"/></a>"
   ]
  },
  {
   "cell_type": "markdown",
   "metadata": {
    "id": "JZbw9tL0kFUE"
   },
   "source": [
    "## Lab -01: Introduction to Python, matplotlib, Numpy"
   ]
  },
  {
   "cell_type": "markdown",
   "metadata": {
    "id": "FKotf-qMkR8D"
   },
   "source": [
    "**Part 1: Implement basic data strcutures using Numpy, Pandas**"
   ]
  },
  {
   "cell_type": "code",
   "execution_count": 10,
   "metadata": {
    "id": "2B76iy-2m9UD"
   },
   "outputs": [],
   "source": [
    "import numpy as np\n",
    "import matplotlib.pyplot as plt\n",
    "import pandas as pd"
   ]
  },
  {
   "cell_type": "code",
   "execution_count": 11,
   "metadata": {
    "colab": {
     "base_uri": "https://localhost:8080/"
    },
    "id": "LeS_SGt2kqUr",
    "outputId": "68a6d726-201b-44ac-a4a7-a761262fedc1"
   },
   "outputs": [
    {
     "data": {
      "text/plain": [
       "([1, 2, 3, 4], array([1, 2, 3, 4]), array([1, 2, 3, 4]))"
      ]
     },
     "execution_count": 11,
     "metadata": {},
     "output_type": "execute_result"
    }
   ],
   "source": [
    "## Create a list, array\n",
    "list1 = [1,2,3,4]\n",
    "array1  = np.array(list1)\n",
    "array1\n",
    "array2 = np.array([1,2,3,4])\n",
    "list1, array1, array2"
   ]
  },
  {
   "cell_type": "code",
   "execution_count": null,
   "metadata": {
    "colab": {
     "base_uri": "https://localhost:8080/"
    },
    "id": "tAQe2IANn5_J",
    "outputId": "8549d563-522d-4ed6-8d69-3dab7016590d"
   },
   "outputs": [],
   "source": [
    "## Identify the type of Data structure\n",
    "type(list1), type(array1), type(array2)"
   ]
  },
  {
   "cell_type": "code",
   "execution_count": 13,
   "metadata": {
    "colab": {
     "base_uri": "https://localhost:8080/"
    },
    "id": "DeuwTBsEoSuH",
    "outputId": "e518840a-31f8-43ed-a3f3-28363754e231"
   },
   "outputs": [
    {
     "name": "stdout",
     "output_type": "stream",
     "text": [
      "Adding two arrays: [2 4 6 8]\n",
      "Subtracting two arrays: array1 - array2\n",
      "Multiplying two arrays: array1 * array2\n",
      "Dividing two arrays: array1 / array2)\n",
      "Exponentiating two arrays: array1 ** array2\n",
      "Multiply array to list: array2 * list1\n"
     ]
    }
   ],
   "source": [
    "## Perform Mathematical operations on arrays, lists\n",
    "print(\"Adding two arrays:\", array1 + array2)\n",
    "print(\"Subtracting two arrays: array1 - array2\")\n",
    "print(\"Multiplying two arrays: array1 * array2\")\n",
    "print(\"Dividing two arrays: array1 / array2)\")\n",
    "print(\"Exponentiating two arrays: array1 ** array2\")\n",
    "print(\"Multiply array to list: array2 * list1\")"
   ]
  },
  {
   "cell_type": "code",
   "execution_count": 18,
   "metadata": {
    "colab": {
     "base_uri": "https://localhost:8080/"
    },
    "id": "1Dy2FHn6pO6j",
    "outputId": "ff3b3f75-c16e-41cc-def2-e9740461d0b6"
   },
   "outputs": [
    {
     "name": "stdout",
     "output_type": "stream",
     "text": [
      "Adding [1 2 3 4] with [1 2 3 4]\n",
      "Result: [2 4 6 8]\n"
     ]
    }
   ],
   "source": [
    "# Combine text with Numpy function\n",
    "print(f\"Adding {array1} with {array2}\")\n",
    "print(f\"Result: {np.add(array1, array2)}\")"
   ]
  },
  {
   "cell_type": "code",
   "execution_count": 20,
   "metadata": {
    "colab": {
     "base_uri": "https://localhost:8080/"
    },
    "id": "djPmE1Gyq9Pk",
    "outputId": "e138e93a-59b3-48e2-a0d3-8db69b564420"
   },
   "outputs": [
    {
     "name": "stdout",
     "output_type": "stream",
     "text": [
      "Sine value of array1:[ 0.84147098  0.90929743  0.14112001 -0.7568025 ]\n",
      "Log value of array1:[0.         0.69314718 1.09861229 1.38629436]\n",
      "Log base 2 value of array1:[0.        1.        1.5849625 2.       ]\n",
      "Log base 10 value of array1:[0.         0.30103    0.47712125 0.60205999]\n",
      "Exponential value of array1:[ 2.71828183  7.3890561  20.08553692 54.59815003]\n"
     ]
    }
   ],
   "source": [
    "# Find the Sin, Log, Log2, Exp values\n",
    "print(f\"Sine value of array1:{np.sin(array1)}\")\n",
    "print(f\"Log value of array1:{np.log(array1)}\")\n",
    "print(f\"Log base 2 value of array1:{np.log2(array1)}\")\n",
    "print(f\"Log base 10 value of array1:{np.log10(array1)}\")\n",
    "print(f\"Exponential value of array1:{np.exp(array1)}\")"
   ]
  },
  {
   "cell_type": "markdown",
   "metadata": {
    "id": "UDvFQ0pxTqPJ"
   },
   "source": [
    "## Part 02: Visualize the data using Matplotlib, pyplot Libraries"
   ]
  },
  {
   "cell_type": "code",
   "execution_count": 23,
   "metadata": {
    "id": "f3UERYcqT1T2"
   },
   "outputs": [],
   "source": [
    "import matplotlib.pyplot as plt"
   ]
  },
  {
   "cell_type": "code",
   "execution_count": 25,
   "metadata": {
    "id": "s20ZzSB4UAJK"
   },
   "outputs": [],
   "source": [
    "#Create the data\n",
    "people = ['kiran', 'arun', 'vijay', 'varun', \"vikas\"]\n",
    "age =[25, 30, 35, 40, 45]\n",
    "height =[145, 151, 165, 173, 190]\n",
    "weight=[45, 55, 65, 75, 90]"
   ]
  },
  {
   "cell_type": "code",
   "execution_count": 27,
   "metadata": {
    "colab": {
     "base_uri": "https://localhost:8080/",
     "height": 472
    },
    "id": "fD7F93YrUerR",
    "outputId": "f6391637-cf4a-429b-c5e5-1c23a2f0b406"
   },
   "outputs": [
    {
     "data": {
      "image/png": "[encoded data removed]",
      "text/plain": [
       "<Figure size 640x480 with 1 Axes>"
      ]
     },
     "metadata": {},
     "output_type": "display_data"
    }
   ],
   "source": [
    "#Generate a scatter plot.\n",
    "# Find the relationship between Age and Height\n",
    "\n",
    "plt.scatter(age, height)\n",
    "plt.xlabel('Age')\n",
    "plt.ylabel('Height')\n",
    "plt.title('Age vs Height')\n",
    "plt.show()"
   ]
  },
  {
   "cell_type": "code",
   "execution_count": 29,
   "metadata": {
    "colab": {
     "base_uri": "https://localhost:8080/",
     "height": 427
    },
    "id": "PeOlL-4TVkeZ",
    "outputId": "001ded0f-e2c7-48ac-e7b0-f5d7d45b52f3"
   },
   "outputs": [
    {
     "data": {
      "image/png": "[encoded data removed]",
      "text/plain": [
       "<Figure size 500x400 with 1 Axes>"
      ]
     },
     "metadata": {},
     "output_type": "display_data"
    },
    {
     "data": {
      "text/plain": [
       "<Figure size 640x480 with 0 Axes>"
      ]
     },
     "metadata": {},
     "output_type": "display_data"
    }
   ],
   "source": [
    "#Genrate Bar Chart\n",
    "#Generate the bar Chart for Height.\n",
    "plt.figure(figsize=(5,4))\n",
    "plt.bar(people, height)\n",
    "plt.xlabel('People')\n",
    "plt.ylabel('Height')\n",
    "plt.title('Height of People')\n",
    "plt.show()\n",
    "save = plt.savefig('bar_chart.png')"
   ]
  },
  {
   "cell_type": "code",
   "execution_count": null,
   "metadata": {},
   "outputs": [],
   "source": []
  },
  {
   "cell_type": "code",
   "execution_count": null,
   "metadata": {},
   "outputs": [],
   "source": []
  }
 ],
 "metadata": {
  "colab": {
   "authorship_tag": "ABX9TyPQunhnNWeXxGhiLGJ+6YvA",
   "include_colab_link": true,
   "provenance": []
  },
  "kernelspec": {
   "display_name": "Python 3 (ipykernel)",
   "language": "python",
   "name": "python3"
  },
  "language_info": {
   "codemirror_mode": {
    "name": "ipython",
    "version": 3
   },
   "file_extension": ".py",
   "mimetype": "text/x-python",
   "name": "python",
   "nbconvert_exporter": "python",
   "pygments_lexer": "ipython3",
   "version": "3.12.4"
  }
 },
 "nbformat": 4,
 "nbformat_minor": 4
}
